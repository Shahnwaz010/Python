{
  "nbformat": 4,
  "nbformat_minor": 0,
  "metadata": {
    "colab": {
      "provenance": []
    },
    "kernelspec": {
      "name": "python3",
      "display_name": "Python 3"
    },
    "language_info": {
      "name": "python"
    }
  },
  "cells": [
    {
      "cell_type": "code",
      "execution_count": null,
      "metadata": {
        "id": "bjWecIJM5lK_"
      },
      "outputs": [],
      "source": []
    },
    {
      "cell_type": "markdown",
      "source": [
        "# **Variables: A programmer's Perspective**"
      ],
      "metadata": {
        "id": "deVZZ78rEjTF"
      }
    },
    {
      "cell_type": "code",
      "source": [
        "ram_bank_balance = 100000\n",
        "# ram's bank balance, note that this is positive\n",
        "ram_loan = 500000\n",
        "#ram's loan , this is to be returned by him and hence will count\n",
        "#as negative\n",
        "\n",
        "lakshman_bank_balance = 2000000\n",
        "lakshman_loan = 10000000\n",
        "\n",
        "net_income = ram_bank_balance + lakshman_bank_balance\n",
        "net_liability = ram_loan+lakshman_loan\n",
        "#net_ liability is the total loan of the brother's\n",
        "\n",
        "final_value=net_income-net_liability\n",
        "# final_value , is the familiy's final money ( could be +ve or -ve )\n",
        "print(\"So, the family has\",final_value)\n",
        "\n"
      ],
      "metadata": {
        "colab": {
          "base_uri": "https://localhost:8080/"
        },
        "id": "K5dotJXlE7W1",
        "outputId": "8b261ec5-958b-442d-cc0a-1f67b0c31d13"
      },
      "execution_count": null,
      "outputs": [
        {
          "output_type": "stream",
          "name": "stdout",
          "text": [
            "So, the family has -8400000\n"
          ]
        }
      ]
    },
    {
      "cell_type": "markdown",
      "source": [
        "**Variables Revisited Dynamic Typing**"
      ],
      "metadata": {
        "id": "ZUYBoWokKx0D"
      }
    },
    {
      "cell_type": "code",
      "source": [
        "n=10\n",
        "print(type(n))\n",
        "print(n)\n",
        "\n",
        "n=n/2\n",
        "# the moment we we use division it will converted to 'float' from 'int'\n",
        "print(type(n))\n",
        "print(n)"
      ],
      "metadata": {
        "colab": {
          "base_uri": "https://localhost:8080/"
        },
        "id": "LBZvZa8tK6mN",
        "outputId": "b5af1bc5-6eae-408c-fb6b-d606b524d68a"
      },
      "execution_count": null,
      "outputs": [
        {
          "output_type": "stream",
          "name": "stdout",
          "text": [
            "<class 'int'>\n",
            "10\n",
            "<class 'float'>\n",
            "5.0\n"
          ]
        }
      ]
    },
    {
      "cell_type": "markdown",
      "source": [
        "**While to Compute Factorial** from week 3"
      ],
      "metadata": {
        "id": "WibJfmunQ7Wz"
      }
    },
    {
      "cell_type": "code",
      "source": [
        "\n",
        "# let us find the factorial of a number\n",
        "\n",
        "print(\"Enter a number \")\n",
        "n=int(input())\n",
        "\n",
        "#n=5\n",
        "#1*2*3*4*5\n",
        "\n",
        "i=1\n",
        "answer=1\n",
        "while(i<=n): #less than or equal to\n",
        " answer=answer*i\n",
        " i=i+1\n",
        "print(answer)\n",
        "\n",
        "#i=1\n",
        "#answer=1\n",
        "#n=5\n",
        "#answer=1\n",
        "#i=2\n",
        "#answer=2\n",
        "#i=3\n",
        "#answer=6\n",
        "#i=4\n",
        "#answer=42\n",
        "#i=5\n",
        "#answer=120\n",
        "#i=6"
      ],
      "metadata": {
        "colab": {
          "base_uri": "https://localhost:8080/"
        },
        "id": "FaDwpDcsRBA4",
        "outputId": "b4479cc9-d0ce-47bb-e598-78f795b52fa9"
      },
      "execution_count": null,
      "outputs": [
        {
          "output_type": "stream",
          "name": "stdout",
          "text": [
            "Enter a number \n",
            "6\n",
            "720\n"
          ]
        }
      ]
    },
    {
      "cell_type": "markdown",
      "source": [
        "**More on Variables,Operator and Expression**"
      ],
      "metadata": {
        "id": "ncEy3JLRXcY5"
      }
    },
    {
      "cell_type": "code",
      "source": [
        " # and = 5\n",
        " # print(and)\n",
        " # and, for and more are pre-defined so it can't be used as variable\n",
        "\n",
        "roll = 5\n",
        "ROLL = 10\n",
        "Roll = 15\n",
        "print(roll,ROLL,Roll) # it shows that python is case sensetive\n",
        "\n"
      ],
      "metadata": {
        "colab": {
          "base_uri": "https://localhost:8080/"
        },
        "id": "zhANYcQ9XhC3",
        "outputId": "4c6efaa0-e9e0-4be9-a602-79ed4d64c1eb"
      },
      "execution_count": null,
      "outputs": [
        {
          "output_type": "stream",
          "name": "stdout",
          "text": [
            "5 10 15\n"
          ]
        }
      ]
    },
    {
      "cell_type": "markdown",
      "source": [
        "1.Multiple Assignment\n"
      ],
      "metadata": {
        "id": "-b4eoAWYdrE_"
      }
    },
    {
      "cell_type": "code",
      "source": [
        "x, y = 1, 2\n",
        "print(x,y)"
      ],
      "metadata": {
        "colab": {
          "base_uri": "https://localhost:8080/"
        },
        "id": "iEpqipQmdwDI",
        "outputId": "0b8c27fc-6d78-4a2a-a7e3-9b6fdd5c6d39"
      },
      "execution_count": null,
      "outputs": [
        {
          "output_type": "stream",
          "name": "stdout",
          "text": [
            "1 2\n"
          ]
        }
      ]
    },
    {
      "cell_type": "code",
      "source": [
        "x=y=z=10\n",
        "print(x,y,z)"
      ],
      "metadata": {
        "colab": {
          "base_uri": "https://localhost:8080/"
        },
        "id": "lGKS5saneIgp",
        "outputId": "d56a70d6-fd77-4147-daaf-8857d2f11ed2"
      },
      "execution_count": null,
      "outputs": [
        {
          "output_type": "stream",
          "name": "stdout",
          "text": [
            "10 10 10\n"
          ]
        }
      ]
    },
    {
      "cell_type": "code",
      "source": [
        "x,y=1,2\n",
        "print(x,y)\n",
        "x,y=y,x\n",
        "print(x,y)"
      ],
      "metadata": {
        "colab": {
          "base_uri": "https://localhost:8080/"
        },
        "id": "WrG_NwSKeWau",
        "outputId": "5c75bf75-123f-44d7-a0fe-efa4fc459061"
      },
      "execution_count": null,
      "outputs": [
        {
          "output_type": "stream",
          "name": "stdout",
          "text": [
            "1 2\n",
            "2 1\n"
          ]
        }
      ]
    },
    {
      "cell_type": "markdown",
      "source": [
        "2.Deleting Variable"
      ],
      "metadata": {
        "id": "vXmMrqwFe0UA"
      }
    },
    {
      "cell_type": "code",
      "source": [
        "x=10\n",
        "print(x)\n",
        "del x\n",
        "print(x,y)"
      ],
      "metadata": {
        "colab": {
          "base_uri": "https://localhost:8080/",
          "height": 193
        },
        "collapsed": true,
        "id": "12sQTngQe26c",
        "outputId": "c54a0e17-1805-4f74-ff9e-5a6b201ccf7b"
      },
      "execution_count": null,
      "outputs": [
        {
          "output_type": "stream",
          "name": "stdout",
          "text": [
            "10\n"
          ]
        },
        {
          "output_type": "error",
          "ename": "NameError",
          "evalue": "name 'x' is not defined",
          "traceback": [
            "\u001b[0;31m---------------------------------------------------------------------------\u001b[0m",
            "\u001b[0;31mNameError\u001b[0m                                 Traceback (most recent call last)",
            "\u001b[0;32m<ipython-input-31-c3c5b15a3146>\u001b[0m in \u001b[0;36m<cell line: 4>\u001b[0;34m()\u001b[0m\n\u001b[1;32m      2\u001b[0m \u001b[0mprint\u001b[0m\u001b[0;34m(\u001b[0m\u001b[0mx\u001b[0m\u001b[0;34m)\u001b[0m\u001b[0;34m\u001b[0m\u001b[0;34m\u001b[0m\u001b[0m\n\u001b[1;32m      3\u001b[0m \u001b[0;32mdel\u001b[0m \u001b[0mx\u001b[0m\u001b[0;34m\u001b[0m\u001b[0;34m\u001b[0m\u001b[0m\n\u001b[0;32m----> 4\u001b[0;31m \u001b[0mprint\u001b[0m\u001b[0;34m(\u001b[0m\u001b[0mx\u001b[0m\u001b[0;34m,\u001b[0m\u001b[0my\u001b[0m\u001b[0;34m)\u001b[0m\u001b[0;34m\u001b[0m\u001b[0;34m\u001b[0m\u001b[0m\n\u001b[0m",
            "\u001b[0;31mNameError\u001b[0m: name 'x' is not defined"
          ]
        }
      ]
    },
    {
      "cell_type": "markdown",
      "source": [
        "Short Hand Opertor"
      ],
      "metadata": {
        "id": "-aIOQobdfxsB"
      }
    },
    {
      "cell_type": "code",
      "source": [
        "count = 0\n",
        "#count = count+1\n",
        "#count = count+1\n",
        "#count = count+1\n",
        "#print(count) it will give the outcome as 4\n",
        "\n",
        "count = 0\n",
        "count +=1\n",
        "count = count + 1 # for this 'count += 1' and 'count = count +1' is same\n",
        "print ( count )  # it will print the same as above\n",
        "# and same applies for \" count -= 1 \" and \"count=count - 1\" for count=10\n"
      ],
      "metadata": {
        "colab": {
          "base_uri": "https://localhost:8080/"
        },
        "id": "dPJ4JuL1f084",
        "outputId": "cede4ce7-a958-4567-cbcb-a6ccceedb84c"
      },
      "execution_count": null,
      "outputs": [
        {
          "output_type": "stream",
          "name": "stdout",
          "text": [
            "2\n"
          ]
        }
      ]
    },
    {
      "cell_type": "code",
      "source": [
        "count = 10\n",
        "count *= 2\n",
        "count = count*2\n",
        "print(count)"
      ],
      "metadata": {
        "colab": {
          "base_uri": "https://localhost:8080/"
        },
        "id": "OKSJvIByiK6F",
        "outputId": "b55f7b92-2d85-4904-a632-28d95f230375"
      },
      "execution_count": null,
      "outputs": [
        {
          "output_type": "stream",
          "name": "stdout",
          "text": [
            "40\n"
          ]
        }
      ]
    },
    {
      "cell_type": "code",
      "source": [
        "count=10\n",
        "count/=2\n",
        "count=count/2\n",
        "print(count)"
      ],
      "metadata": {
        "colab": {
          "base_uri": "https://localhost:8080/"
        },
        "id": "vkc3pP2hiiHu",
        "outputId": "d55b3cf4-1b32-4024-cd16-bbc30ad8f514"
      },
      "execution_count": null,
      "outputs": [
        {
          "output_type": "stream",
          "name": "stdout",
          "text": [
            "2.5\n"
          ]
        }
      ]
    },
    {
      "cell_type": "markdown",
      "source": [
        "Special Operator:- In Operator"
      ],
      "metadata": {
        "id": "mwriMaWjkmmL"
      }
    },
    {
      "cell_type": "code",
      "source": [
        "print('alpha' in ' A variable name only contain alpha- numeric character and underscore ')\n",
        "print( ' alpha 'in \" A variable name must start with a letter or the underscore character\")"
      ],
      "metadata": {
        "colab": {
          "base_uri": "https://localhost:8080/"
        },
        "id": "S9d57Q-OkBBX",
        "outputId": "16c05f88-5e4c-425e-b08f-b9fd957d9ed0"
      },
      "execution_count": null,
      "outputs": [
        {
          "output_type": "stream",
          "name": "stdout",
          "text": [
            "True\n",
            "False\n"
          ]
        }
      ]
    },
    {
      "cell_type": "markdown",
      "source": [
        "Expression:- Chaining Operator"
      ],
      "metadata": {
        "id": "4A5qeBi7ktyo"
      }
    },
    {
      "cell_type": "code",
      "source": [
        "x = 5\n",
        "print( 1 < x < 10 )\n",
        "print( 10 < x < 10)\n",
        "print( x < 10 < x * 5 < 100 )\n",
        "print( 10 > x <= 9)\n",
        "print( 5==x > 4)"
      ],
      "metadata": {
        "colab": {
          "base_uri": "https://localhost:8080/"
        },
        "id": "ucYiNL6Ok3Y_",
        "outputId": "c34a4907-7bff-4c31-8c74-3490b47c3366"
      },
      "execution_count": null,
      "outputs": [
        {
          "output_type": "stream",
          "name": "stdout",
          "text": [
            "True\n",
            "False\n",
            "True\n",
            "True\n",
            "True\n"
          ]
        }
      ]
    },
    {
      "cell_type": "markdown",
      "source": [
        "**Escape character and type of quates**"
      ],
      "metadata": {
        "id": "rlThi8BPmH23"
      }
    },
    {
      "cell_type": "code",
      "source": [
        "#print('It's a beautiful day') this will not executed as it shows invalid\n",
        " #to solve this issue we have to use escape character\n",
        "print('It\\'s a beautiful day')\n",
        "print(\"we are from \\\"IIT\\\" Madras\")\n",
        "print('my name is omkar. i am from pune. ')\n",
        "print(\"my name is omkar.\\t\\t i am from pune. \")\n",
        "\n",
        "print('my name is Shahnwaz.\\nI am from Jharkhand')\n",
        "\n",
        "print(\"It's a beautiful day\")\n",
        "print('We are from \"IIT\" Madras')\n"
      ],
      "metadata": {
        "colab": {
          "base_uri": "https://localhost:8080/"
        },
        "id": "iZO4zmsLmPS0",
        "outputId": "1c205606-87b6-4666-d06c-00e300a7ca48"
      },
      "execution_count": null,
      "outputs": [
        {
          "output_type": "stream",
          "name": "stdout",
          "text": [
            "It's a beautiful day\n",
            "we are from \"IIT\" Madras\n",
            "my name is omkar. i am from pune. \n",
            "my name is omkar.\t\t i am from pune. \n",
            "my name is Shahnwaz.\n",
            "I am from Jharkhand\n",
            "It's a beautiful day\n",
            "We are from \"IIT\" Madras\n"
          ]
        }
      ]
    },
    {
      "cell_type": "markdown",
      "source": [
        "Use of codes supported by python language"
      ],
      "metadata": {
        "id": "WoI2_ZgTtbTT"
      }
    },
    {
      "cell_type": "code",
      "source": [
        "x = \"this is a string\"\n",
        "y = 'this is also a string'\n",
        "z= '''first line\n",
        "second line\n",
        "third line\n",
        "fourth line'''\n",
        "print(x)\n",
        "#print(y)\n",
        "'''comment 1\n",
        "comment 2\n",
        "comment 3'''\n",
        "print(z)\n",
        "\n",
        "#triple code can be used for commenting also"
      ],
      "metadata": {
        "colab": {
          "base_uri": "https://localhost:8080/"
        },
        "id": "Yl8tTW6Qtje5",
        "outputId": "283d6d9f-321f-4f06-fe8a-f9c7910423da"
      },
      "execution_count": null,
      "outputs": [
        {
          "output_type": "stream",
          "name": "stdout",
          "text": [
            "this is a string\n",
            "first line \n",
            "second line \n",
            "third line\n",
            "fourth line\n"
          ]
        }
      ]
    },
    {
      "cell_type": "markdown",
      "source": [
        "**String Methods**"
      ],
      "metadata": {
        "id": "j_4TAH-5vae4"
      }
    },
    {
      "cell_type": "code",
      "source": [
        "x='pyThon sTring mEthOdS'\n",
        "\n",
        "print(x.upper()) # it will give strings of x in upper case\n",
        "\n",
        "print(x.lower()) # it will give string in lower case\n",
        "\n",
        "print(x.capitalize())# it will make the first leter of sentence capital\n",
        "\n",
        "print(x.title()) #it will make every first letter of word in the sentence capital\n",
        "\n",
        "print(x.swapcase())#it will randomly swap the letters of the sentence into capital and small\n"
      ],
      "metadata": {
        "colab": {
          "base_uri": "https://localhost:8080/"
        },
        "id": "WNvR98CCvdbx",
        "outputId": "8aff5b57-0f96-435a-d695-9b4a9739889d"
      },
      "execution_count": null,
      "outputs": [
        {
          "output_type": "stream",
          "name": "stdout",
          "text": [
            "PYTHON STRING METHODS\n",
            "python string methods\n",
            "Python string methods\n",
            "Python String Methods\n",
            "PYtHON StRING MeTHoDs\n"
          ]
        }
      ]
    },
    {
      "cell_type": "code",
      "source": [
        "x='python'\n",
        "print(x.islower()) # it will check whether the letter in the word are in lowercase\n",
        "print(x.isupper())# it will check whether the letter s in the word are in upper case\n"
      ],
      "metadata": {
        "colab": {
          "base_uri": "https://localhost:8080/"
        },
        "id": "SC9oKV7W1JML",
        "outputId": "d8cbba50-6d23-46a7-d3d8-8780ecf85bfa"
      },
      "execution_count": null,
      "outputs": [
        {
          "output_type": "stream",
          "name": "stdout",
          "text": [
            "True\n",
            "False\n"
          ]
        }
      ]
    },
    {
      "cell_type": "code",
      "source": [
        "x=' Python String Method '\n",
        "print(x.istitle()) #it will check whether words in the sentence starts with capital or not\n",
        "y='Python string method'\n",
        "print(y.istitle())"
      ],
      "metadata": {
        "colab": {
          "base_uri": "https://localhost:8080/"
        },
        "id": "QNoy-qJ13GDt",
        "outputId": "80e8378c-1b57-470b-8c1c-1eec02a44a4f"
      },
      "execution_count": null,
      "outputs": [
        {
          "output_type": "stream",
          "name": "stdout",
          "text": [
            "True\n",
            "False\n"
          ]
        }
      ]
    },
    {
      "cell_type": "code",
      "source": [
        "x='123'\n",
        "print(x.isdigit())\n",
        "\n",
        "y='123abc'\n",
        "print(y.isdigit())"
      ],
      "metadata": {
        "colab": {
          "base_uri": "https://localhost:8080/"
        },
        "id": "TPbUo_jN3uY4",
        "outputId": "e6754db5-0889-4b36-cf22-bd9ff1f787c8"
      },
      "execution_count": null,
      "outputs": [
        {
          "output_type": "stream",
          "name": "stdout",
          "text": [
            "True\n",
            "False\n"
          ]
        }
      ]
    },
    {
      "cell_type": "code",
      "source": [
        "x='abc'\n",
        "print(x.isalpha())\n",
        "\n",
        "y='abc123'\n",
        "print(y.isalpha())"
      ],
      "metadata": {
        "colab": {
          "base_uri": "https://localhost:8080/"
        },
        "id": "ewunUpC34PtX",
        "outputId": "3a2d5f99-9b01-49b5-d9bb-1a8040ea0477"
      },
      "execution_count": null,
      "outputs": [
        {
          "output_type": "stream",
          "name": "stdout",
          "text": [
            "True\n",
            "False\n"
          ]
        }
      ]
    },
    {
      "cell_type": "code",
      "source": [
        "x='abc123'\n",
        "print(x.isalnum())\n",
        "\n",
        "y='abc123@*#'\n",
        "print(y.isalnum())"
      ],
      "metadata": {
        "colab": {
          "base_uri": "https://localhost:8080/"
        },
        "id": "7c9W62dV5n8D",
        "outputId": "e3cf237c-a665-40aa-8694-44313e67e7e9"
      },
      "execution_count": null,
      "outputs": [
        {
          "output_type": "stream",
          "name": "stdout",
          "text": [
            "True\n",
            "False\n"
          ]
        }
      ]
    },
    {
      "cell_type": "code",
      "source": [
        "x='-------Python------'\n",
        "\n",
        "#lstrip()\n",
        "print(x.strip('-'))\n",
        "\n",
        "#lstrip()\n",
        "print(x.lstrip('-'))\n",
        "\n",
        "#rstrip()\n",
        "print(x.rstrip('-'))"
      ],
      "metadata": {
        "colab": {
          "base_uri": "https://localhost:8080/"
        },
        "id": "PxlGHfj66Zam",
        "outputId": "e4c4e060-5838-4414-a16f-0e45fc49ebd5"
      },
      "execution_count": null,
      "outputs": [
        {
          "output_type": "stream",
          "name": "stdout",
          "text": [
            "Python\n",
            "Python------\n",
            "-------Python\n"
          ]
        }
      ]
    },
    {
      "cell_type": "code",
      "source": [
        "x=\"Python\"\n",
        "\n",
        "#startswith()\n",
        "print(x.startswith('P'))\n",
        "print(x.startswith('p'))\n",
        "\n",
        "#endswith()\n",
        "print(x.endswith('n'))\n",
        "print(x.endswith('N'))\n"
      ],
      "metadata": {
        "colab": {
          "base_uri": "https://localhost:8080/"
        },
        "id": "UyMKKMoS7Wbm",
        "outputId": "86908c77-9306-417b-e928-d8c11cf4602d"
      },
      "execution_count": null,
      "outputs": [
        {
          "output_type": "stream",
          "name": "stdout",
          "text": [
            "True\n",
            "False\n",
            "True\n",
            "False\n"
          ]
        }
      ]
    },
    {
      "cell_type": "code",
      "source": [
        "x='Python String Method '\n",
        "#count()\n",
        "print(x.count('t'))\n",
        "print(x.count(\"s\"))\n",
        "\n",
        "#index()\n",
        "print(x.index('P')) # it will give the position of the index or letter or digitor etc\n",
        "print(x.index('d'))\n",
        "\n",
        "#replace()\n",
        "x=x.replace('S',\"s\")\n",
        "x=x.replace(\"M\",'m')\n",
        "print(x)\n"
      ],
      "metadata": {
        "colab": {
          "base_uri": "https://localhost:8080/"
        },
        "id": "tCk8tpRG8k7n",
        "outputId": "aecbb89c-3b00-4b10-bb98-db4a34d5f7f8"
      },
      "execution_count": null,
      "outputs": [
        {
          "output_type": "stream",
          "name": "stdout",
          "text": [
            "3\n",
            "0\n",
            "0\n",
            "19\n",
            "Python string method \n"
          ]
        }
      ]
    },
    {
      "cell_type": "markdown",
      "source": [
        "**An interesting Cipher: More on Strings**"
      ],
      "metadata": {
        "id": "XqSgJ_x0_KM8"
      }
    },
    {
      "cell_type": "code",
      "source": [
        "alpha='abcdefghijklmnopqrstuvwxyz'\n",
        "i=25\n",
        "\n",
        "print(alpha[i%26])\n",
        "print(alpha[(i+1)%26])\n",
        "print(alpha[(i+2)%26])"
      ],
      "metadata": {
        "colab": {
          "base_uri": "https://localhost:8080/"
        },
        "id": "BBc5cmKHE96l",
        "outputId": "56b8f8b3-0128-4d42-8ea7-78dd5b8816de"
      },
      "execution_count": null,
      "outputs": [
        {
          "output_type": "stream",
          "name": "stdout",
          "text": [
            "z\n",
            "a\n",
            "b\n"
          ]
        }
      ]
    },
    {
      "cell_type": "code",
      "source": [
        "alpha='abcdefghijklmnopqrstuvwxyz'\n",
        "\n",
        "s='shahnwaz'\n",
        "# i expect to tibioxb\n",
        "t=''\n",
        "print(alpha.index(s[0]))"
      ],
      "metadata": {
        "colab": {
          "base_uri": "https://localhost:8080/"
        },
        "id": "SVxeJfQWQcx3",
        "outputId": "bd1c4f9a-328e-417d-934a-ea9e034d9b42"
      },
      "execution_count": null,
      "outputs": [
        {
          "output_type": "stream",
          "name": "stdout",
          "text": [
            "18\n"
          ]
        }
      ]
    },
    {
      "cell_type": "code",
      "source": [
        "alpha='abcdefghijklmnopqrstuvwxyz'\n",
        "\n",
        "s='shahnwaz'\n",
        "# i expect to tibioxbk\n",
        "t=''\n",
        "print  (alpha[(((alpha.index(s[0]))+1)%26)])\n"
      ],
      "metadata": {
        "colab": {
          "base_uri": "https://localhost:8080/"
        },
        "id": "O4_f8dh5Se7b",
        "outputId": "0872e412-f537-460d-ccd3-f0b8b9a7c38a"
      },
      "execution_count": null,
      "outputs": [
        {
          "output_type": "stream",
          "name": "stdout",
          "text": [
            "t\n"
          ]
        }
      ]
    },
    {
      "cell_type": "code",
      "source": [
        "alpha='abcdefghijklmnopqrstuvwxyz'\n",
        "\n",
        "s='indianinstituteoftechnology'\n",
        "#iexpect it to be tibioxbk\n",
        "\n",
        "t=''\n",
        "\n",
        "i=0\n",
        "k=3 # no. of time it will shift\n",
        "t=t+(alpha[(((alpha.index(s[i]))+k)%26)])\n",
        "t=t+(alpha[(((alpha.index(s[i+1]))+k)%26)])\n",
        "t=t+(alpha[(((alpha.index(s[i+2]))+k)%26)])\n",
        "t=t+(alpha[(((alpha.index(s[i+3]))+k)%26)])\n",
        "t=t+(alpha[(((alpha.index(s[i+4]))+k)%26)])\n",
        "t=t+(alpha[(((alpha.index(s[i+5]))+k)%26)])\n",
        "t=t+(alpha[(((alpha.index(s[i+6]))+k)%26)])\n",
        "\n",
        "print(t)\n"
      ],
      "metadata": {
        "colab": {
          "base_uri": "https://localhost:8080/"
        },
        "id": "g_X-NKVuW4GN",
        "outputId": "e4a5782f-ae98-4130-f1e7-8e8732a9993b"
      },
      "execution_count": null,
      "outputs": [
        {
          "output_type": "stream",
          "name": "stdout",
          "text": [
            "lqgldql\n"
          ]
        }
      ]
    },
    {
      "cell_type": "markdown",
      "source": [
        "**Introduction to the if statement**"
      ],
      "metadata": {
        "id": "atFti5WIblp6"
      }
    },
    {
      "cell_type": "code",
      "source": [
        "# if condition\n",
        "#let us consider the movie Avengers. this is 13+ movie\n",
        "\n",
        "print(\"Please enter your date of birth:\")\n",
        "birth_year = int(input())\n",
        "\n",
        "current_year = 2024\n",
        "age = current_year - birth_year\n",
        "\n",
        "if(age < 13 ):\n",
        "  print(\"YOU ARE UNDER AGE, You cannot watch this movie.\")\n",
        "  print(\"Wait until you are old enough to watch this movie.\")\n",
        "else:\n",
        "  print(\"You are old enough to watch this movie. Enjoy!\")\n",
        "  print(\"Don't forget to watch the sequels and prequels.\")\n",
        "\n",
        "  print('Have a nice day.')\n",
        "\n",
        "\n",
        "\n"
      ],
      "metadata": {
        "colab": {
          "base_uri": "https://localhost:8080/"
        },
        "id": "g1DySbNlbqkE",
        "outputId": "2d2fb8f2-1aef-44d7-cae2-fc854b1e0208"
      },
      "execution_count": null,
      "outputs": [
        {
          "output_type": "stream",
          "name": "stdout",
          "text": [
            "Please enter your date of birth:\n",
            "2\n",
            "You are old enough to watch this movie. Enjoy!\n",
            "Don't forget to watch the sequels and prequels.\n",
            "Have a nice day.\n"
          ]
        }
      ]
    },
    {
      "cell_type": "markdown",
      "source": [
        "**Tutorial on if, else and else-if (elif) condition**"
      ],
      "metadata": {
        "id": "PHvuO43ugaGl"
      }
    },
    {
      "cell_type": "markdown",
      "source": [
        "Problem 1: Find whether the given number is odd or even"
      ],
      "metadata": {
        "id": "UeKqnzrHgzK5"
      }
    },
    {
      "cell_type": "code",
      "source": [
        "#1 Find whether the number i even or odd\n",
        "\n",
        "num=int(input(\"Enter the number:\"))\n",
        "\n",
        "if (num % 2 == 0):\n",
        "  print(\"Number is even\")\n",
        "else:\n",
        "    print(\"Number is odd\")"
      ],
      "metadata": {
        "colab": {
          "base_uri": "https://localhost:8080/"
        },
        "id": "NOXep1oSglLT",
        "outputId": "27e38d1b-3b10-4250-e8d4-47dea552fe34"
      },
      "execution_count": null,
      "outputs": [
        {
          "output_type": "stream",
          "name": "stdout",
          "text": [
            "Enter the number:5\n",
            "Number is odd\n"
          ]
        }
      ]
    },
    {
      "cell_type": "code",
      "source": [
        "#2 find whether the given number ends with 0 or 5 or any other number\n",
        "\n",
        "num=int(input(\"Enter a Number:\"))\n",
        "if (num % 5 == 0):\n",
        "  if(num % 10 == 0 ):\n",
        "    print(\" Number ends with 0\" )\n",
        "  else:\n",
        "        print(\" number ends with 5\")\n",
        "else:\n",
        "  print(\"Ends with other number or other than 5 and 0\")"
      ],
      "metadata": {
        "colab": {
          "base_uri": "https://localhost:8080/"
        },
        "id": "kQy05Fq5i6Mz",
        "outputId": "f402fd66-195d-4421-d69e-b2616bbff0e4"
      },
      "execution_count": null,
      "outputs": [
        {
          "output_type": "stream",
          "name": "stdout",
          "text": [
            "Enter a Number:56\n",
            "Ends with other number or other than 5 and 0\n"
          ]
        }
      ]
    },
    {
      "cell_type": "code",
      "source": [
        "#3  Find the grades of students based on the given marks from 0 to 100.\n",
        "\n",
        "marks = int(input('Enter marks:'))\n",
        "if (marks >=0 and marks <=100 ):\n",
        "  if (marks >= 90):\n",
        "     print(\"Grade A\")\n",
        "  elif (marks >=80 and marks  <90):\n",
        "     print(\"grade B\")\n",
        "  elif (marks >=70 and marks  <80):\n",
        "     print(\"Grade C\")\n",
        "  elif (marks >=60 and marks <70):\n",
        "     print(\"Grade D\")\n",
        "  elif (marks >=50 and marks < 60 ):\n",
        "     print (\" Grade E\" )\n",
        "  else:\n",
        "     print( \"Fail\" )\n",
        "else:\n",
        "  print(\" Invalid input\")"
      ],
      "metadata": {
        "colab": {
          "base_uri": "https://localhost:8080/"
        },
        "id": "mWwd9VrQkxW4",
        "outputId": "0fa6e5bd-4176-4d28-fce4-71103c449280"
      },
      "execution_count": null,
      "outputs": [
        {
          "output_type": "stream",
          "name": "stdout",
          "text": [
            "Enter marks:091\n",
            "Grade A\n"
          ]
        }
      ]
    },
    {
      "cell_type": "markdown",
      "source": [
        "**Introduction to \"Import library\"**"
      ],
      "metadata": {
        "id": "5-LaGWjKvbPX"
      }
    },
    {
      "cell_type": "code",
      "source": [
        "import math\n",
        "\n",
        "print(math.log(10))\n",
        "print(math.sqrt(9))\n",
        "print(math.factorial(6))\n",
        "\n",
        "#Let us simulate a coin toss\n",
        "\n",
        "import random\n",
        "a= random.random()\n",
        "\n",
        "if (a<.5):\n",
        "  print(\"Head\")\n",
        "else:\n",
        "  print(\"Tail\")\n",
        "\n",
        "# Let us simulate a dise(six faced )\n",
        "\n",
        "import random\n",
        "print( random.randrange(1,6))\n",
        "print( random.randrange(1,7))\n",
        "\n",
        "\n"
      ],
      "metadata": {
        "id": "6AAH7-Pavo79",
        "colab": {
          "base_uri": "https://localhost:8080/"
        },
        "outputId": "0190de54-13f7-4070-bebf-9dded99d81a1"
      },
      "execution_count": null,
      "outputs": [
        {
          "output_type": "stream",
          "name": "stdout",
          "text": [
            "2.302585092994046\n",
            "3.0\n",
            "720\n",
            "Head\n",
            "2\n",
            "1\n",
            "Your pair of dice is :, total\n"
          ]
        }
      ]
    },
    {
      "cell_type": "code",
      "source": [
        "# Let us simulate the sum of two dies(six faced)\n",
        "import random\n",
        "dice1=(random.randrange(1,7))\n",
        "dice2=(random.randrange(1,7))\n",
        "pair = dice1 , dice2\n",
        "total= dice1+dice2\n",
        "print( \"Your pair of dice is :\",pair,\"Your sum of dice is :\" , total)"
      ],
      "metadata": {
        "colab": {
          "base_uri": "https://localhost:8080/"
        },
        "id": "fUptQaFyJyVS",
        "outputId": "97340c15-7953-4f97-850f-b2375c7152d2"
      },
      "execution_count": null,
      "outputs": [
        {
          "output_type": "stream",
          "name": "stdout",
          "text": [
            "Your pair of dice is : (4, 5) Your sum of dice is : 9\n"
          ]
        }
      ]
    },
    {
      "cell_type": "markdown",
      "source": [
        "Different ways to import a liberary\n"
      ],
      "metadata": {
        "id": "BjwHkhY6MLnY"
      }
    },
    {
      "cell_type": "code",
      "source": [
        "import"
      ],
      "metadata": {
        "id": "iCn7zhHZMRRB"
      },
      "execution_count": null,
      "outputs": []
    }
  ]
}