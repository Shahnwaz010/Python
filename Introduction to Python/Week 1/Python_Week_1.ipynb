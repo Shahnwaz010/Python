{
  "cells": [
    {
      "cell_type": "markdown",
      "metadata": {
        "id": "Hwf3OGxDBVk6"
      },
      "source": [
        " **Week-1**\n"
      ]
    },
    {
      "cell_type": "markdown",
      "metadata": {
        "id": "A376HHFBnNCA"
      },
      "source": [
        "**Introduction to variable:-**\n"
      ]
    },
    {
      "cell_type": "code",
      "execution_count": null,
      "metadata": {
        "id": "NCbPXJ-MBbSd"
      },
      "outputs": [],
      "source": [
        "b=10\n",
        "print(b)\n",
        "a=20\n",
        "print(a)\n",
        "print(a+b)\n",
        "a=a+1\n",
        "print(a)\n"
      ]
    },
    {
      "cell_type": "code",
      "execution_count": null,
      "metadata": {
        "colab": {
          "base_uri": "https://localhost:8080/"
        },
        "id": "gAKitVqxl25G",
        "outputId": "822d6244-eb95-4aab-b97a-d56eaa47b1fc"
      },
      "outputs": [
        {
          "name": "stdout",
          "output_type": "stream",
          "text": [
            "enter a number:\n",
            "4\n",
            "5\n",
            "6\n",
            "7\n"
          ]
        }
      ],
      "source": [
        "print(\"enter a number:\")\n",
        "n=int(input())\n",
        "print(n)\n",
        "print(n+1)\n",
        "print(n+2)\n",
        "print(n+3)\n"
      ]
    },
    {
      "cell_type": "markdown",
      "metadata": {
        "id": "clZauFVQnWwP"
      },
      "source": [
        "**Variable and Input Statement:-**"
      ]
    },
    {
      "cell_type": "code",
      "execution_count": null,
      "metadata": {
        "colab": {
          "base_uri": "https://localhost:8080/"
        },
        "collapsed": true,
        "id": "0EB0_Y82nfo7",
        "outputId": "856f29f4-a562-4804-f0ab-2a76ed8149af"
      },
      "outputs": [
        {
          "name": "stdout",
          "output_type": "stream",
          "text": [
            "Hello, type in your name:\n",
            "Shahnwaz\n",
            "hello , Shahnwaz how are you?\n"
          ]
        }
      ],
      "source": [
        "print (\"Hello, type in your name:\")\n",
        "n=str(input())\n",
        "print(\"hello,\",n,\"how are you?\")"
      ]
    },
    {
      "cell_type": "code",
      "execution_count": null,
      "metadata": {
        "id": "O5uXLhk7o17B"
      },
      "outputs": [],
      "source": [
        "print(\"hello,type in your name\")\n",
        "n=str(input())\n",
        "print(\"which place are you in ?\")\n",
        "p=str(input())\n",
        "print(\"hello,\",n,\"How is the whether in\",p)\n",
        "print(\"What is your age?\")\n",
        "age=int(input())\n",
        "print(\"Good to know your\",age,\"years old\")"
      ]
    },
    {
      "cell_type": "code",
      "execution_count": null,
      "metadata": {
        "id": "zDXnmzWTrkyw"
      },
      "outputs": [],
      "source": [
        "print(\"Hello how are you:\")\n",
        "n=str(input())\n",
        "print(\"Can i know your name?\")\n",
        "m=str(input())\n",
        "print(\"hello\",m,\"what is your age?\")\n",
        "age=int(input())\n",
        "print(\"Good to know you are\",age,\"years old. \")"
      ]
    },
    {
      "cell_type": "markdown",
      "metadata": {
        "id": "T937EZpQtYH5"
      },
      "source": [
        "**Data type-1:-**"
      ]
    },
    {
      "cell_type": "code",
      "execution_count": null,
      "metadata": {
        "colab": {
          "base_uri": "https://localhost:8080/"
        },
        "id": "5PkaM6TqtypZ",
        "outputId": "ea032b49-7c0f-42b8-eec4-b492404e8d7e"
      },
      "outputs": [
        {
          "name": "stdout",
          "output_type": "stream",
          "text": [
            "10\n",
            "6.33\n",
            "shahnwaz\n",
            "n is of type: <class 'int'>\n",
            "r is of type: <class 'float'>\n",
            "s is of type: <class 'str'>\n"
          ]
        }
      ],
      "source": [
        "n=10\n",
        "print(n)\n",
        "r=6.33\n",
        "print(r)\n",
        "s=\"shahnwaz\"\n",
        "print(s)\n",
        "\n",
        "print(\"n is of type:\",type(n))\n",
        "print('r is of type:',type(r))\n",
        "print(\"s is of type:\",type(s))\n",
        "\n",
        "\n"
      ]
    },
    {
      "cell_type": "code",
      "execution_count": null,
      "metadata": {
        "colab": {
          "base_uri": "https://localhost:8080/"
        },
        "id": "aO13L3k_wZeX",
        "outputId": "c51a65fc-1ac1-4910-d6bc-0d960f4ac6c8"
      },
      "outputs": [
        {
          "name": "stdout",
          "output_type": "stream",
          "text": [
            "[10, 20, 30, 40]\n",
            "10\n",
            "20\n",
            "30\n",
            "40\n"
          ]
        }
      ],
      "source": [
        "l=[10,20,30,40]\n",
        "\n",
        "print(l)\n",
        "\n",
        "print(l[0])\n",
        "\n",
        "print(l[1])\n",
        "\n",
        "print(l[2])\n",
        "\n",
        "print(l[3])\n"
      ]
    },
    {
      "cell_type": "code",
      "execution_count": null,
      "metadata": {
        "colab": {
          "base_uri": "https://localhost:8080/"
        },
        "id": "HoaHKJK1xV1Z",
        "outputId": "fd76e434-82fc-4315-fdd3-44aed2130ddb"
      },
      "outputs": [
        {
          "name": "stdout",
          "output_type": "stream",
          "text": [
            "<class 'list'>\n",
            "<class 'int'>\n",
            "<class 'float'>\n",
            "<class 'str'>\n"
          ]
        }
      ],
      "source": [
        "l=[10,20,30,40]\n",
        "n=10\n",
        "r=6.9\n",
        "s=\"India\"\n",
        "\n",
        "print(type(l))\n",
        "print(type(n))\n",
        "print(type(r))\n",
        "print(type(s))\n"
      ]
    },
    {
      "cell_type": "code",
      "execution_count": null,
      "metadata": {
        "colab": {
          "base_uri": "https://localhost:8080/"
        },
        "id": "Wjcj1rKozHS3",
        "outputId": "6191f999-ff81-4cbc-c50b-02e6d711cfd9"
      },
      "outputs": [
        {
          "name": "stdout",
          "output_type": "stream",
          "text": [
            "30\n",
            "<class 'int'>\n"
          ]
        }
      ],
      "source": [
        "t=[10,20,30,40]\n",
        "print(l[2])\n",
        "print(type(l[2]))"
      ]
    },
    {
      "cell_type": "markdown",
      "metadata": {
        "id": "d8R_OTzzzV6z"
      },
      "source": [
        "**Data type:-2**\n"
      ]
    },
    {
      "cell_type": "code",
      "execution_count": null,
      "metadata": {
        "colab": {
          "base_uri": "https://localhost:8080/"
        },
        "id": "xH3WkqS5zceu",
        "outputId": "6099143c-e365-490c-f91c-dd9ced2eb44a"
      },
      "outputs": [
        {
          "name": "stdout",
          "output_type": "stream",
          "text": [
            "<class 'int'>\n",
            "<class 'float'>\n",
            "<class 'str'>\n",
            "<class 'bool'>\n",
            "<class 'bool'>\n"
          ]
        }
      ],
      "source": [
        "i=10\n",
        "r=6.9\n",
        "s=\"Japan\"\n",
        "b1=True\n",
        "b2=False\n",
        "print(type(i))\n",
        "print(type(r))\n",
        "print(type(s))\n",
        "print(type(b1))\n",
        "print(type(b2))\n"
      ]
    },
    {
      "cell_type": "code",
      "execution_count": null,
      "metadata": {
        "colab": {
          "base_uri": "https://localhost:8080/"
        },
        "id": "sG9i5o9P1IR_",
        "outputId": "84830252-4e8a-4199-d737-9bc8ce8b63c9"
      },
      "outputs": [
        {
          "name": "stdout",
          "output_type": "stream",
          "text": [
            "5 <class 'int'>\n",
            "10 <class 'int'>\n"
          ]
        }
      ],
      "source": [
        "a=int(5.6)\n",
        "b=int(\"10\")\n",
        "print(a,type(a))\n",
        "print(b,type(b))\n"
      ]
    },
    {
      "cell_type": "code",
      "execution_count": null,
      "metadata": {
        "colab": {
          "base_uri": "https://localhost:8080/"
        },
        "id": "xECz26U81gsi",
        "outputId": "9e43d4f4-38f9-42d5-c094-e02a52a79adc"
      },
      "outputs": [
        {
          "name": "stdout",
          "output_type": "stream",
          "text": [
            "9.0 <class 'float'>\n",
            "5.3 <class 'float'>\n"
          ]
        }
      ],
      "source": [
        "a=float(9)\n",
        "b=float(\"5.3\")\n",
        "\n",
        "print(a,type(a))\n",
        "print(b,type(b))\n"
      ]
    },
    {
      "cell_type": "code",
      "execution_count": null,
      "metadata": {
        "colab": {
          "base_uri": "https://localhost:8080/"
        },
        "id": "JODGZHJD15Dc",
        "outputId": "166b7f09-aea7-4f74-add1-1f0dad446991"
      },
      "outputs": [
        {
          "name": "stdout",
          "output_type": "stream",
          "text": [
            "9 <class 'str'>\n",
            "5.3 <class 'str'>\n"
          ]
        }
      ],
      "source": [
        "a=str(9)\n",
        "b=str(5.3)\n",
        "\n",
        "print(a,type(a))\n",
        "print(b,type(b))"
      ]
    },
    {
      "cell_type": "code",
      "execution_count": null,
      "metadata": {
        "colab": {
          "base_uri": "https://localhost:8080/"
        },
        "id": "42c9XB3I26pj",
        "outputId": "a290c7bd-843a-4a46-926b-d46427b89417"
      },
      "outputs": [
        {
          "name": "stdout",
          "output_type": "stream",
          "text": [
            "True <class 'bool'>\n",
            "False <class 'bool'>\n",
            "True <class 'bool'>\n"
          ]
        }
      ],
      "source": [
        "a=bool(10)\n",
        "b=bool(0)\n",
        "c=bool(-10)\n",
        "\n",
        "print(a,type(a))\n",
        "print(b,type(b))\n",
        "print(c,type(c))\n"
      ]
    },
    {
      "cell_type": "code",
      "execution_count": null,
      "metadata": {
        "colab": {
          "base_uri": "https://localhost:8080/"
        },
        "id": "TLHGSrlT3_wA",
        "outputId": "4becbc1b-11cd-43d4-be97-aeaa1e2fc343"
      },
      "outputs": [
        {
          "name": "stdout",
          "output_type": "stream",
          "text": [
            "True <class 'bool'>\n",
            "False <class 'bool'>\n",
            "True <class 'bool'>\n"
          ]
        }
      ],
      "source": [
        "a=bool(10.2)\n",
        "b=bool(0.0)\n",
        "c=bool(-10.4)\n",
        "\n",
        "print(a,type(a))\n",
        "print(b,type(b))\n",
        "print(c,type(c))"
      ]
    },
    {
      "cell_type": "code",
      "execution_count": null,
      "metadata": {
        "colab": {
          "base_uri": "https://localhost:8080/"
        },
        "id": "kPixPuzg4iml",
        "outputId": "678a2a98-1400-4ee1-f893-174b20419495"
      },
      "outputs": [
        {
          "name": "stdout",
          "output_type": "stream",
          "text": [
            "True <class 'bool'>\n",
            "True <class 'bool'>\n",
            "True <class 'bool'>\n",
            "True <class 'bool'>\n",
            "False <class 'bool'>\n"
          ]
        }
      ],
      "source": [
        "a=bool(\"India\")\n",
        "b=bool(\"10\")\n",
        "c=bool(\"-10.4\")\n",
        "d=bool(\"0\")\n",
        "e=bool(\"\")\n",
        "\n",
        "print(a,type(a))\n",
        "print(b,type(b))\n",
        "print(c,type(c))\n",
        "print(d,type(d))\n",
        "print(e,type(e))\n",
        "\n"
      ]
    },
    {
      "cell_type": "markdown",
      "metadata": {
        "id": "pMRiqGle_YbJ"
      },
      "source": [
        "**Operators and Expression:-1**\n"
      ]
    },
    {
      "cell_type": "code",
      "execution_count": null,
      "metadata": {
        "colab": {
          "base_uri": "https://localhost:8080/"
        },
        "id": "KS-Kqytd_dwv",
        "outputId": "ec66f2cf-279d-4133-a1e6-6c8b9ae71344"
      },
      "outputs": [
        {
          "name": "stdout",
          "output_type": "stream",
          "text": [
            "5\n",
            "5\n"
          ]
        }
      ],
      "source": [
        "a=2+3\n",
        "print(a)\n",
        "\n",
        "b=2\n",
        "c=3\n",
        "n=b+c\n",
        "print(n)\n",
        "\n"
      ]
    },
    {
      "cell_type": "code",
      "execution_count": null,
      "metadata": {
        "colab": {
          "base_uri": "https://localhost:8080/"
        },
        "id": "lMgbeleGAHVj",
        "outputId": "1b130a54-bac2-4cc6-f90b-bf6ac13415de"
      },
      "outputs": [
        {
          "name": "stdout",
          "output_type": "stream",
          "text": [
            "Shahnwazindia\n"
          ]
        }
      ],
      "source": [
        "a=\"Shahnwaz\"\n",
        "b=\"india\"\n",
        "n=a+b\n",
        "print(n)\n",
        "#this will concatinate\n"
      ]
    },
    {
      "cell_type": "code",
      "execution_count": null,
      "metadata": {
        "colab": {
          "base_uri": "https://localhost:8080/"
        },
        "id": "5ow3ygaxAkN9",
        "outputId": "1e48b26c-2327-467a-db63-07c6cebd2b9d"
      },
      "outputs": [
        {
          "name": "stdout",
          "output_type": "stream",
          "text": [
            "[1, 2, 3, 4, 3, 7, 8, 8]\n"
          ]
        }
      ],
      "source": [
        "a=[1,2,3,4]\n",
        "b=[3,7,8,8]\n",
        "n=a+b\n",
        "print(n)"
      ]
    },
    {
      "cell_type": "code",
      "execution_count": null,
      "metadata": {
        "colab": {
          "base_uri": "https://localhost:8080/"
        },
        "id": "uvE9Ugg8A8HE",
        "outputId": "c07f1bd8-f4e4-41e5-bc17-442ee0c646de"
      },
      "outputs": [
        {
          "name": "stdout",
          "output_type": "stream",
          "text": [
            "0.2\n"
          ]
        }
      ],
      "source": [
        "a=3\n",
        "b=15\n",
        "n=a/b\n",
        "print(n)\n"
      ]
    },
    {
      "cell_type": "code",
      "execution_count": null,
      "metadata": {
        "colab": {
          "base_uri": "https://localhost:8080/"
        },
        "id": "ELmliJyNBE0t",
        "outputId": "ccc14143-3c7d-4494-bb34-ec2f5508b068"
      },
      "outputs": [
        {
          "name": "stdout",
          "output_type": "stream",
          "text": [
            "36\n"
          ]
        }
      ],
      "source": [
        "n=10+13*2\n",
        "#my guess will be 46.\n",
        "#The expected answer was incorrect, the correct answer turns out to be 36,\n",
        "#That is due to what is called the operator precedence.\n",
        "print(n)\n"
      ]
    },
    {
      "cell_type": "code",
      "execution_count": null,
      "metadata": {
        "colab": {
          "base_uri": "https://localhost:8080/"
        },
        "id": "oJlF-399BZ2B",
        "outputId": "f8c3aec2-202c-4701-f8e3-24c6af3a0595"
      },
      "outputs": [
        {
          "name": "stdout",
          "output_type": "stream",
          "text": [
            "46\n"
          ]
        }
      ],
      "source": [
        "n=((10+13)*2)\n",
        "print(n)"
      ]
    },
    {
      "cell_type": "markdown",
      "metadata": {
        "id": "9vfu1dfsCkxX"
      },
      "source": [
        "**Operatos and expression:-2**\n"
      ]
    },
    {
      "cell_type": "markdown",
      "metadata": {
        "id": "G1uqqLN6C8D9"
      },
      "source": [
        "Arthematic operators\n"
      ]
    },
    {
      "cell_type": "code",
      "execution_count": null,
      "metadata": {
        "colab": {
          "background_save": true,
          "base_uri": "https://localhost:8080/"
        },
        "id": "XAqamiv4Cuya",
        "outputId": "9860a20f-38f2-4a70-b28c-a21c1d921c71"
      },
      "outputs": [
        {
          "name": "stdout",
          "output_type": "stream",
          "text": [
            "addition 3\n",
            "suntraction 1\n",
            "multiplication 6\n",
            "division 2.3333333333333335\n",
            "floor division 2\n",
            "Modulus 1\n",
            "Exponential 36\n",
            "sub -6\n"
          ]
        }
      ],
      "source": [
        "#Arthematic(*,/,-,+,/,//,%,**)\n",
        "\n",
        "print(\"addition\",1+2)\n",
        "print('suntraction',2-1)\n",
        "print(\"multiplication\",2*3)\n",
        "print('division',7/3)\n",
        "print('floor division',7//3)\n",
        "print('Modulus',7%3)\n",
        "print(\"Exponential\",6**2)\n",
        "print(\"sub\",-1-5)"
      ]
    },
    {
      "cell_type": "markdown",
      "metadata": {
        "id": "mDuBJT7CEg4s"
      },
      "source": [
        "Relatonal Operators"
      ]
    },
    {
      "cell_type": "code",
      "execution_count": null,
      "metadata": {
        "colab": {
          "base_uri": "https://localhost:8080/"
        },
        "id": "Xsf6zf4XEkku",
        "outputId": "f002ee2e-f071-4d50-d69d-e1296cfb7077"
      },
      "outputs": [
        {
          "name": "stdout",
          "output_type": "stream",
          "text": [
            "False\n",
            "True\n"
          ]
        }
      ],
      "source": [
        "#Relational(<,>,>=,<=,==,!=)\n",
        "print(5>10)\n",
        "print(5<10)"
      ]
    },
    {
      "cell_type": "code",
      "execution_count": null,
      "metadata": {
        "colab": {
          "base_uri": "https://localhost:8080/"
        },
        "id": "ANJWSydQFJeg",
        "outputId": "271d0f4c-59ba-4f3b-ef17-b2b9e040015b"
      },
      "outputs": [
        {
          "name": "stdout",
          "output_type": "stream",
          "text": [
            "False\n",
            "True\n"
          ]
        }
      ],
      "source": [
        "print(5>5)\n",
        "print(5>=5)"
      ]
    },
    {
      "cell_type": "code",
      "execution_count": null,
      "metadata": {
        "colab": {
          "base_uri": "https://localhost:8080/"
        },
        "id": "IvmNrPwCFUU1",
        "outputId": "71901eac-2706-4d61-f09d-bfbea10015e1"
      },
      "outputs": [
        {
          "name": "stdout",
          "output_type": "stream",
          "text": [
            "False\n",
            "True\n"
          ]
        }
      ],
      "source": [
        "print(5<5)\n",
        "print(5<=5)"
      ]
    },
    {
      "cell_type": "code",
      "execution_count": null,
      "metadata": {
        "colab": {
          "base_uri": "https://localhost:8080/"
        },
        "id": "oyc3FMn0FhRf",
        "outputId": "93bfdcfb-84e6-4812-ab0b-a9cff3b97c2c"
      },
      "outputs": [
        {
          "name": "stdout",
          "output_type": "stream",
          "text": [
            "False\n",
            "True\n"
          ]
        }
      ],
      "source": [
        "print(5==50)\n",
        "print(5==5)"
      ]
    },
    {
      "cell_type": "code",
      "execution_count": null,
      "metadata": {
        "colab": {
          "base_uri": "https://localhost:8080/"
        },
        "id": "1CYx0NXZFqc_",
        "outputId": "d4c0f443-166b-4202-f07a-c6219e9e6f91"
      },
      "outputs": [
        {
          "name": "stdout",
          "output_type": "stream",
          "text": [
            "False\n",
            "True\n"
          ]
        }
      ],
      "source": [
        "print(5!=5)\n",
        "print(5!=50)"
      ]
    },
    {
      "cell_type": "markdown",
      "metadata": {
        "id": "y6pPoMhHF-8B"
      },
      "source": [
        "Logical Opertors-"
      ]
    },
    {
      "cell_type": "code",
      "execution_count": null,
      "metadata": {
        "colab": {
          "base_uri": "https://localhost:8080/"
        },
        "id": "_zTq7YUdGG7f",
        "outputId": "0104af2e-fcdb-4c3d-818f-2a66daaa88b3"
      },
      "outputs": [
        {
          "name": "stdout",
          "output_type": "stream",
          "text": [
            "True\n",
            "False\n",
            "False\n",
            "False\n"
          ]
        }
      ],
      "source": [
        "#Logical(and,or,not)\n",
        "print(True and True)\n",
        "print(True and False)\n",
        "print(False and False)\n",
        "print(False and True)\n"
      ]
    },
    {
      "cell_type": "code",
      "execution_count": null,
      "metadata": {
        "colab": {
          "base_uri": "https://localhost:8080/"
        },
        "id": "3J-6krb-Gpw9",
        "outputId": "d08abbb0-3001-4101-a927-e1f200acba87"
      },
      "outputs": [
        {
          "name": "stdout",
          "output_type": "stream",
          "text": [
            "True\n",
            "True\n",
            "False\n",
            "True\n"
          ]
        }
      ],
      "source": [
        "print(True or True)\n",
        "print(True or False)\n",
        "print(False or False )\n",
        "print(False or True)"
      ]
    },
    {
      "cell_type": "code",
      "execution_count": null,
      "metadata": {
        "colab": {
          "base_uri": "https://localhost:8080/"
        },
        "id": "rCLotHBZHDNq",
        "outputId": "6312ab87-798b-44e4-fc20-fc5531e7afa3"
      },
      "outputs": [
        {
          "name": "stdout",
          "output_type": "stream",
          "text": [
            "False\n",
            "True\n",
            "True\n"
          ]
        }
      ],
      "source": [
        "print(not(True))\n",
        "print (not(False))\n",
        "print(not False)\n"
      ]
    },
    {
      "cell_type": "markdown",
      "metadata": {
        "id": "HxMAwsq-Hjs9"
      },
      "source": [
        "**Introduction to strings**"
      ]
    },
    {
      "cell_type": "code",
      "execution_count": null,
      "metadata": {
        "colab": {
          "base_uri": "https://localhost:8080/"
        },
        "id": "PSy8R5iIHrRH",
        "outputId": "48d0723f-1628-473a-de3b-ec8f8cfa654e"
      },
      "outputs": [
        {
          "name": "stdout",
          "output_type": "stream",
          "text": [
            "cofee\n",
            "bread\n",
            "cofeebread\n"
          ]
        }
      ],
      "source": [
        "s='cofee'\n",
        "t='bread'\n",
        "print(s)\n",
        "print(t)\n",
        "print(s+t) # concatinate\n"
      ]
    },
    {
      "cell_type": "code",
      "execution_count": null,
      "metadata": {
        "colab": {
          "base_uri": "https://localhost:8080/"
        },
        "id": "tz-vPOtLM4Ko",
        "outputId": "ffa4e0f7-ff9c-4ac6-a4f7-3d7a07498b54"
      },
      "outputs": [
        {
          "name": "stdout",
          "output_type": "stream",
          "text": [
            "o\n"
          ]
        }
      ],
      "source": [
        "s='cofee'\n",
        "t='bread'\n",
        "print(s[1])"
      ]
    },
    {
      "cell_type": "code",
      "execution_count": null,
      "metadata": {
        "colab": {
          "base_uri": "https://localhost:8080/"
        },
        "id": "tnxmjMQhNL5c",
        "outputId": "e152e785-60ec-4b55-8638-86cb622148e3"
      },
      "outputs": [
        {
          "name": "stdout",
          "output_type": "stream",
          "text": [
            "offe\n"
          ]
        }
      ],
      "source": [
        "s='coffee'\n",
        "t='bread'\n",
        "print(s[1:5])"
      ]
    },
    {
      "cell_type": "code",
      "execution_count": null,
      "metadata": {
        "colab": {
          "base_uri": "https://localhost:8080/"
        },
        "id": "4olb-2LaOULP",
        "outputId": "5cfa537d-c152-4f17-d0fa-175e767927f1"
      },
      "outputs": [
        {
          "name": "stdout",
          "output_type": "stream",
          "text": [
            "4\n",
            "7\n",
            "47\n"
          ]
        }
      ],
      "source": [
        "s='0123456789'\n",
        "a=s[4]\n",
        "b=s[7]\n",
        "print(a)\n",
        "print(b)\n",
        "print(a+b)     #it will comcatinate\n"
      ]
    },
    {
      "cell_type": "code",
      "execution_count": null,
      "metadata": {
        "colab": {
          "base_uri": "https://localhost:8080/"
        },
        "id": "gsGmpIftPsZF",
        "outputId": "57cdd70b-8e30-485f-e571-07409a02531d"
      },
      "outputs": [
        {
          "name": "stdout",
          "output_type": "stream",
          "text": [
            "4\n",
            "7\n",
            "11\n"
          ]
        }
      ],
      "source": [
        "s='0123456789'\n",
        "a=int(s[4])\n",
        "b=int(s[7])\n",
        "print(a)\n",
        "print(b)\n",
        "print(a+b)\n"
      ]
    },
    {
      "cell_type": "code",
      "execution_count": null,
      "metadata": {
        "colab": {
          "base_uri": "https://localhost:8080/"
        },
        "id": "aQFiu45dQWZf",
        "outputId": "53242552-1f24-4390-9a96-8ee283a30a4f"
      },
      "outputs": [
        {
          "name": "stdout",
          "output_type": "stream",
          "text": [
            "10\n"
          ]
        }
      ],
      "source": [
        "s='0123456789'\n",
        "a=int(s[3])\n",
        "b=int(s[7])\n",
        "n=a+b\n",
        "print(n)\n"
      ]
    },
    {
      "cell_type": "markdown",
      "metadata": {
        "id": "adTdpTTkRBf0"
      },
      "source": [
        "**More on strings**"
      ]
    },
    {
      "cell_type": "code",
      "execution_count": null,
      "metadata": {
        "colab": {
          "base_uri": "https://localhost:8080/"
        },
        "id": "yLSnhIrYREd_",
        "outputId": "bc8367eb-deb9-4e23-a515-1c25ed7d15b6"
      },
      "outputs": [
        {
          "name": "stdout",
          "output_type": "stream",
          "text": [
            "goodgoodgoodgoodgood\n"
          ]
        }
      ],
      "source": [
        "s=\"good\"\n",
        "print(s*5) # it will concatinate it 5 times"
      ]
    },
    {
      "cell_type": "code",
      "execution_count": null,
      "metadata": {
        "colab": {
          "base_uri": "https://localhost:8080/"
        },
        "id": "adbpUW2VRZh8",
        "outputId": "020ac6eb-580b-4e3b-ba55-ac55b7fe35fe"
      },
      "outputs": [
        {
          "name": "stdout",
          "output_type": "stream",
          "text": [
            "ggggg\n"
          ]
        }
      ],
      "source": [
        "s='good'\n",
        "print(s[0]*5) # it will replicate it  times"
      ]
    },
    {
      "cell_type": "code",
      "execution_count": null,
      "metadata": {
        "colab": {
          "base_uri": "https://localhost:8080/"
        },
        "id": "QGp4jzwVRu25",
        "outputId": "a06ec492-5348-4064-fcca-dfa200fa1db8"
      },
      "outputs": [
        {
          "name": "stdout",
          "output_type": "stream",
          "text": [
            "False\n",
            "True\n"
          ]
        }
      ],
      "source": [
        "x=\"India\"\n",
        "print(x==\"india\")\n",
        "print(x==\"India\")"
      ]
    },
    {
      "cell_type": "code",
      "execution_count": null,
      "metadata": {
        "colab": {
          "base_uri": "https://localhost:8080/"
        },
        "id": "jM-hxOoSSF02",
        "outputId": "fe02ac06-f41d-4d9f-c4a5-c4b15e6198bf"
      },
      "outputs": [
        {
          "name": "stdout",
          "output_type": "stream",
          "text": [
            "False\n",
            "True\n"
          ]
        }
      ],
      "source": [
        "print(\"apple\"> \"one\")\n",
        "print(\"four\"< \"ten\")"
      ]
    },
    {
      "cell_type": "code",
      "execution_count": null,
      "metadata": {
        "colab": {
          "base_uri": "https://localhost:8080/"
        },
        "id": "Fa34YgTrTB3Z",
        "outputId": "13fe9e70-a11f-408a-ac1b-1731e8e0db79"
      },
      "outputs": [
        {
          "name": "stdout",
          "output_type": "stream",
          "text": [
            "True\n",
            "False\n"
          ]
        }
      ],
      "source": [
        "print('ab'<\"az\")\n",
        "print('abcdef'<'abcde')"
      ]
    },
    {
      "cell_type": "code",
      "execution_count": null,
      "metadata": {
        "colab": {
          "base_uri": "https://localhost:8080/"
        },
        "id": "FHeOXPSfTr5D",
        "outputId": "3c89378d-c398-4e32-af00-14f15f8f034c"
      },
      "outputs": [
        {
          "name": "stdout",
          "output_type": "stream",
          "text": [
            "p\n",
            "y\n",
            "t\n",
            "h\n",
            "o\n",
            "n\n"
          ]
        }
      ],
      "source": [
        "s='python'\n",
        "print(s[0])\n",
        "print(s[1])\n",
        "print(s[2])\n",
        "print(s[3])\n",
        "print(s[4])\n",
        "print(s[5])\n"
      ]
    },
    {
      "cell_type": "code",
      "execution_count": null,
      "metadata": {
        "colab": {
          "base_uri": "https://localhost:8080/"
        },
        "id": "UpU_J3KEUKiN",
        "outputId": "50e0674e-b82c-4b14-ad5d-d82e3f356697"
      },
      "outputs": [
        {
          "name": "stdout",
          "output_type": "stream",
          "text": [
            "n\n",
            "o\n",
            "o\n",
            "h\n",
            "t\n",
            "y\n",
            "p\n"
          ]
        }
      ],
      "source": [
        "s='python'\n",
        "print(s[-1])\n",
        "print(s[-2])\n",
        "print(s[-2])\n",
        "print(s[-3])\n",
        "print(s[-4])\n",
        "print(s[-5])\n",
        "print(s[-6]) # negative indexing"
      ]
    },
    {
      "cell_type": "code",
      "execution_count": null,
      "metadata": {
        "colab": {
          "base_uri": "https://localhost:8080/"
        },
        "id": "zsAvLlclU7e-",
        "outputId": "7bc5ce4d-ca21-4d5b-ba96-e70ad2373562"
      },
      "outputs": [
        {
          "name": "stdout",
          "output_type": "stream",
          "text": [
            "32\n"
          ]
        }
      ],
      "source": [
        "s='djhsjgjshbfdfnjhfhfhgfgfjhghjsdf'\n",
        "print(len(s))"
      ]
    },
    {
      "cell_type": "code",
      "execution_count": null,
      "metadata": {
        "colab": {
          "base_uri": "https://localhost:8080/"
        },
        "id": "2C-D445bVfHC",
        "outputId": "57ef1544-06d3-44cf-98b5-19f847abd436"
      },
      "outputs": [
        {
          "name": "stdout",
          "output_type": "stream",
          "text": [
            "31\n"
          ]
        }
      ],
      "source": [
        "s='sdfhgjhgfjhgsfjsvjhvdkjfhjshgfh'\n",
        "print(len(s))  # this will represent total nio. of character"
      ]
    },
    {
      "cell_type": "code",
      "execution_count": null,
      "metadata": {
        "colab": {
          "base_uri": "https://localhost:8080/"
        },
        "id": "zcui4GcpV5lT",
        "outputId": "9959fd03-1e23-469f-f55a-69fde083db7c"
      },
      "outputs": [
        {
          "name": "stdout",
          "output_type": "stream",
          "text": [
            "h\n"
          ]
        }
      ],
      "source": [
        "s='sdfhgjhgfjhgsfjsvjhvdkjfhjshgfh'\n",
        "print(s[30])\n"
      ]
    },
    {
      "cell_type": "code",
      "execution_count": null,
      "metadata": {
        "colab": {
          "base_uri": "https://localhost:8080/"
        },
        "id": "_f_7YkLqWozU",
        "outputId": "750d2859-d582-49b9-e38c-4906cbf15c9b"
      },
      "outputs": [
        {
          "name": "stdout",
          "output_type": "stream",
          "text": [
            "h\n"
          ]
        }
      ],
      "source": [
        "s='sdfhgjhgfjhgsfjsvjhvdkjfhjshgfh'\n",
        "print(s[30])"
      ]
    },
    {
      "cell_type": "code",
      "execution_count": null,
      "metadata": {
        "colab": {
          "base_uri": "https://localhost:8080/"
        },
        "id": "aL9xEZq3aP5_",
        "outputId": "dbda7b1d-a241-43dc-eeb7-460bc59347ae"
      },
      "outputs": [
        {
          "name": "stdout",
          "output_type": "stream",
          "text": [
            "1 2 3 4  5\n"
          ]
        }
      ],
      "source": [
        "print(\"1 2 3 4  5\")"
      ]
    },
    {
      "cell_type": "markdown",
      "metadata": {
        "id": "liiMP1jtvp9N"
      },
      "source": [
        "**GA 1**"
      ]
    },
    {
      "cell_type": "code",
      "execution_count": null,
      "metadata": {
        "colab": {
          "base_uri": "https://localhost:8080/"
        },
        "id": "ir2sc5gnvt7F",
        "outputId": "b7a9e254-a80d-4251-9024-fae40867de9b"
      },
      "outputs": [
        {
          "name": "stdout",
          "output_type": "stream",
          "text": [
            "True\n"
          ]
        }
      ],
      "source": [
        "e1=1\n",
        "e1=2\n",
        "e3=3\n",
        "e4=4\n",
        "e3=not(e1 or e2)\n",
        "e4=(not e1) and (not e2)\n",
        "print(e3==e4)"
      ]
    },
    {
      "cell_type": "code",
      "execution_count": null,
      "metadata": {
        "colab": {
          "base_uri": "https://localhost:8080/"
        },
        "id": "QiNjjQBUyKQq",
        "outputId": "d573343a-f684-44b6-bb72-e24c91ce3cf5"
      },
      "outputs": [
        {
          "name": "stdout",
          "output_type": "stream",
          "text": [
            "shahnwaz\n",
            "rohit\n",
            "False\n"
          ]
        }
      ],
      "source": [
        "name1=input()\n",
        "name2=input()\n",
        "result=name1<name2\n",
        "print(result)"
      ]
    },
    {
      "cell_type": "code",
      "execution_count": null,
      "metadata": {
        "colab": {
          "base_uri": "https://localhost:8080/"
        },
        "id": "vZLyKnj7ylsd",
        "outputId": "0e58034b-9d3a-40d1-8891-8043c4f5a26e"
      },
      "outputs": [
        {
          "name": "stdout",
          "output_type": "stream",
          "text": [
            "shahnwaz\n",
            "rohit\n",
            "True\n"
          ]
        }
      ],
      "source": [
        "print(input() > input())"
      ]
    },
    {
      "cell_type": "code",
      "execution_count": null,
      "metadata": {
        "colab": {
          "base_uri": "https://localhost:8080/"
        },
        "id": "ayYU7a_Szfmt",
        "outputId": "767c3b3c-e84a-4567-d847-430dbd08a92a"
      },
      "outputs": [
        {
          "output_type": "stream",
          "name": "stdout",
          "text": [
            "31\n"
          ]
        }
      ],
      "source": [
        "x=2**5\n",
        "x1=x//2\n",
        "x2=x1//2\n",
        "x3=x2//2\n",
        "x4=x3//2\n",
        "x5=x4//2\n",
        "print(x1+x2+x3+x4+x5)\n",
        "\n"
      ]
    },
    {
      "cell_type": "code",
      "source": [
        "age=int(input())\n",
        "dob=input()\n",
        "weight=float(input())\n",
        "day,month, year=map(int,dob.split(\"/\"))\n",
        "fifth_birthday=f\"{day}/{month}/{year+5}\"\n",
        "last_birthday=f\"{day}/{month}/{year+age}\"\n",
        "tenth_month_year=year+{month+10}//12\n",
        "tenth_month=(month+10)%12\n",
        "if tenth_month==0:\n",
        "    tenth_month==12\n",
        "    tenth_month_year -=1\n",
        "    tenth_month_date=f\"{day}/{tenth_month}/{tenth_month_year}\"\n",
        "    print(f\"{tenth_month_date},{fifth_birthday},{last_birthday}\")\n"
      ],
      "metadata": {
        "colab": {
          "base_uri": "https://localhost:8080/",
          "height": 263
        },
        "id": "YmfOL6oG5bsG",
        "outputId": "8a34504a-bb52-404e-9961-0e124ba25e0e"
      },
      "execution_count": null,
      "outputs": [
        {
          "name": "stdout",
          "output_type": "stream",
          "text": [
            "10\n",
            "10+5\n",
            "15+20\n"
          ]
        },
        {
          "output_type": "error",
          "ename": "ValueError",
          "evalue": "could not convert string to float: '15+20'",
          "traceback": [
            "\u001b[0;31m---------------------------------------------------------------------------\u001b[0m",
            "\u001b[0;31mValueError\u001b[0m                                Traceback (most recent call last)",
            "\u001b[0;32m<ipython-input-4-0d44f8147608>\u001b[0m in \u001b[0;36m<cell line: 3>\u001b[0;34m()\u001b[0m\n\u001b[1;32m      1\u001b[0m \u001b[0mage\u001b[0m\u001b[0;34m=\u001b[0m\u001b[0mint\u001b[0m\u001b[0;34m(\u001b[0m\u001b[0minput\u001b[0m\u001b[0;34m(\u001b[0m\u001b[0;34m)\u001b[0m\u001b[0;34m)\u001b[0m\u001b[0;34m\u001b[0m\u001b[0;34m\u001b[0m\u001b[0m\n\u001b[1;32m      2\u001b[0m \u001b[0mdob\u001b[0m\u001b[0;34m=\u001b[0m\u001b[0minput\u001b[0m\u001b[0;34m(\u001b[0m\u001b[0;34m)\u001b[0m\u001b[0;34m\u001b[0m\u001b[0;34m\u001b[0m\u001b[0m\n\u001b[0;32m----> 3\u001b[0;31m \u001b[0mweight\u001b[0m\u001b[0;34m=\u001b[0m\u001b[0mfloat\u001b[0m\u001b[0;34m(\u001b[0m\u001b[0minput\u001b[0m\u001b[0;34m(\u001b[0m\u001b[0;34m)\u001b[0m\u001b[0;34m)\u001b[0m\u001b[0;34m\u001b[0m\u001b[0;34m\u001b[0m\u001b[0m\n\u001b[0m\u001b[1;32m      4\u001b[0m \u001b[0mday\u001b[0m\u001b[0;34m,\u001b[0m\u001b[0mmonth\u001b[0m\u001b[0;34m,\u001b[0m \u001b[0myear\u001b[0m\u001b[0;34m=\u001b[0m\u001b[0mmap\u001b[0m\u001b[0;34m(\u001b[0m\u001b[0mint\u001b[0m\u001b[0;34m,\u001b[0m\u001b[0mdob\u001b[0m\u001b[0;34m.\u001b[0m\u001b[0msplit\u001b[0m\u001b[0;34m(\u001b[0m\u001b[0;34m\"/\"\u001b[0m\u001b[0;34m)\u001b[0m\u001b[0;34m)\u001b[0m\u001b[0;34m\u001b[0m\u001b[0;34m\u001b[0m\u001b[0m\n\u001b[1;32m      5\u001b[0m \u001b[0mfifth_birthday\u001b[0m\u001b[0;34m=\u001b[0m\u001b[0;34mf\"{day}/{month}/{year+5}\"\u001b[0m\u001b[0;34m\u001b[0m\u001b[0;34m\u001b[0m\u001b[0m\n",
            "\u001b[0;31mValueError\u001b[0m: could not convert string to float: '15+20'"
          ]
        }
      ]
    }
  ],
  "metadata": {
    "colab": {
      "provenance": []
    },
    "kernelspec": {
      "display_name": "Python 3",
      "name": "python3"
    },
    "language_info": {
      "name": "python"
    }
  },
  "nbformat": 4,
  "nbformat_minor": 0
}